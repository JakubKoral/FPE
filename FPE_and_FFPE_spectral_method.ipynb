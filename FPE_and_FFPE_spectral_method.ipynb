{
 "cells": [
  {
   "attachments": {},
   "cell_type": "markdown",
   "metadata": {
    "cell_id": "32f5149d8fff4c568f03eb040b74d1eb",
    "deepnote_cell_type": "text-cell-h1",
    "formattedRanges": []
   },
   "source": [
    "# Solution of standard and fractional Fokker-Planck equation using spectral method\n",
    "Authors: Aleksander Jakóbczyk, Jakub Koral, Hubert Woszczek"
   ]
  },
  {
   "attachments": {},
   "cell_type": "markdown",
   "metadata": {},
   "source": [
    "## Basic functions"
   ]
  },
  {
   "attachments": {},
   "cell_type": "markdown",
   "metadata": {},
   "source": [
    "In this section we define basic functions which will be used throughout this project."
   ]
  },
  {
   "cell_type": "code",
   "execution_count": null,
   "metadata": {},
   "outputs": [],
   "source": [
    "import math\n",
    "\n",
    "import matplotlib.pyplot as plt\n",
    "import numpy as np\n",
    "import pandas as pd\n",
    "import seaborn as sns\n",
    "from IPython.display import HTML\n",
    "from matplotlib.animation import FuncAnimation\n",
    "from scipy.linalg import expm\n",
    "from scipy.special import hermite, roots_hermite\n",
    "\n",
    "from mittag_leffler import ml\n",
    "\n",
    "sns.set_style(\"darkgrid\")\n",
    "sns.set_palette(\"rocket\")"
   ]
  },
  {
   "cell_type": "code",
   "execution_count": null,
   "metadata": {},
   "outputs": [],
   "source": [
    "def w_alpha(x, alpha): # weight function (see (9))\n",
    "    return np.exp(alpha ** 2 * x ** 2)\n",
    "\n",
    "\n",
    "def hermiteFunc(x, n, alpha): # Hermite function\n",
    "    return 1 / math.sqrt(2 ** n * np.math.factorial(n)) * hermite(n)(alpha * x) * 1/w_alpha(x, alpha)\n",
    "\n",
    "\n",
    "def f_delta_0(N, alpha, f_0, G_H_root=10): # coefficients of initial condition approximation (see (13-16) and (24))\n",
    "    f_hat = np.zeros((N, 1))\n",
    "    x_i, w_i = roots_hermite(G_H_root)\n",
    "    for n in range(N):\n",
    "        G_H_quad = np.sum(w_i * hermiteFunc(x_i, n, alpha) *\n",
    "                          f_0(x_i) * w_alpha(x_i, alpha) * np.exp(x_i**2))\n",
    "        f_hat[n] = alpha/np.sqrt(np.pi) * G_H_quad\n",
    "    return f_hat\n",
    "\n",
    "\n",
    "def M_f_ij(N, c, Y, alpha, u=1): # matrix connected with system of ODEs (see (28-30))\n",
    "    M_f = np.zeros((N + 1, N + 1))\n",
    "    for i in range(1, N + 2):\n",
    "        n = i - 1\n",
    "        for j in range(1, N + 2):\n",
    "            if i == j:\n",
    "                M_f[i - 1, j - 1] = n * Y\n",
    "            elif i == j + 1:\n",
    "                M_f[i - 1, j - 1] = alpha * u * np.sqrt(2 * n)\n",
    "            elif i == j + 2:\n",
    "                M_f[i - 1, j - 1] = (Y + 2 * alpha ** 2 *\n",
    "                                     c) * np.sqrt(n * (n - 1))\n",
    "    return M_f\n",
    "\n",
    "\n",
    "def hermit_aprox(x, ts, f0_n, M_f, alpha, N): # approximates the solution given coefficients of initial condition (see (22) and (31))\n",
    "    H = np.zeros((N+1, len(x)))\n",
    "    for n in range(N+1):\n",
    "        H[n] = hermiteFunc(x, n, alpha)\n",
    "    f_t = np.zeros((len(ts), len(x)))\n",
    "    for i, t in enumerate(ts):\n",
    "        f_n = expm(M_f*t) @ f0_n\n",
    "        f_t[i] = f_n.T @ H\n",
    "    return f_t\n",
    "\n",
    "\n",
    "def f(x, ts, N, alpha, f_0, M_f=None, G_H_root=10): # combines f_delta_0 and hermit_aprox functions\n",
    "    if type(ts) == int:\n",
    "        ts = [ts]\n",
    "    f0_n = f_delta_0(N+1, alpha, f_0, G_H_root)\n",
    "    f_t = hermit_aprox(x, ts, f0_n, M_f, alpha, N)\n",
    "    if type(ts) == int:\n",
    "        return ts[0]\n",
    "    else:\n",
    "        return f_t\n",
    "\n",
    "\n",
    "def animation_function(i, x, ts, f_t, solution, ylim=None, xlim=None): # animation function\n",
    "    t = ts[i]\n",
    "    plt.clf()\n",
    "    if xlim:\n",
    "        plt.ylim(xlim)\n",
    "    if ylim:\n",
    "        plt.ylim(ylim)\n",
    "    plt.plot(x, solution[i], label='exact solution', zorder=1)\n",
    "    plt.scatter(x, f_t[i], marker='x', s=15, color='r',\n",
    "                label='numerical solution', zorder=2)\n",
    "    plt.title(\n",
    "        fr'Exact and numerical solution of FPE for $x\\in({min(x)},{max(x)}), t={np.round(t, 2):.2f}$')\n",
    "    plt.legend()\n"
   ]
  },
  {
   "attachments": {},
   "cell_type": "markdown",
   "metadata": {},
   "source": [
    "## Introduction"
   ]
  },
  {
   "attachments": {},
   "cell_type": "markdown",
   "metadata": {},
   "source": [
    "The Fokker-Planck equation (often abbrevaited as FPE) is a partial differential equation that describes the time evolution of the probability density function of the velocity of a particle under the influence of drag and random forces. It is named after Adriaan Fokker and Max Planck, who derived it in 1914 and 1917 respectively. They used it to describe the Brownian motion of a free particle. Fokker-Planck equation has multiple applications in natural sciences, information theory, graph theory, data science, finance, economics, etc.\n",
    "\n",
    "Various methods of solutions for the FPE have been proposed in scientific literature. Analytic solutions of the FPE can be found in some special cases, but in general they are difficult to obtain. Therefore, numerical methods have become important in approximating the solutions of the FPE.\n",
    "\n",
    "First part of this project consists of a short theoretical introduction. Then we consider the class of FPEs corresponding to Itô SDEs described by the following multidimensional model\n",
    "\\begin{equation}\n",
    "\\begin{cases}\n",
    "dX_t=\\mu(X_t,t)\\,dt+\\sigma(X_t,t)W_t,\\\\\n",
    "X_{t_0}=X_0,\n",
    "\\end{cases}\n",
    "\\end{equation}\n",
    "where $W_t$ is a Wiener process (also known as Brownian motion). The evolution of the probability denisty function $f(x,t)$ associated with the stochastic process $X_t$ is governed by the following FPE\n",
    "\\begin{equation}\n",
    "    \\partial_t f(x,t)=-\\partial_x\\left(\\mu(x,t)f(x,t)\\right)+\\frac{1}{2}\\partial_{xx}\\left(a(x,t)f(x,t)\\right),\\tag{2}\n",
    "\\end{equation}\n",
    "where $\\sigma(X_t,t)=\\sqrt{a(X_t,t)}$. \n",
    "\n",
    "Nextly, we show how the solution changes when the fractional derivative with respect to time is introduced, leading to farctional Fokker-Planck equation (FFPE). Finally, we provide some numerical evidence of important properties of spectral method.\n"
   ]
  },
  {
   "attachments": {},
   "cell_type": "markdown",
   "metadata": {},
   "source": [
    "## Theory"
   ]
  },
  {
   "attachments": {},
   "cell_type": "markdown",
   "metadata": {},
   "source": [
    "### Hermite polynomials"
   ]
  },
  {
   "attachments": {},
   "cell_type": "markdown",
   "metadata": {},
   "source": [
    "Hermite polynomials are a sequence of orthogonal polynomials. They can be defined from several different starting points. Two classical forms of these polynomials are called \"physicists's\" and \"probabilist's\" Hermite polynomials. In this project we use the former one. Using derivatives we can define Hermite polynomials by formula\n",
    "\\begin{equation}\n",
    "    H_n(x)=(-1)^n e^{x^2}\\frac{d^n}{dx^n}e^{-x^2},\\quad n\\geq 0.\\tag{3}\n",
    "\\end{equation}\n",
    "This sequence of polynomials also satisfies the recurrence relation\n",
    "\\begin{equation}\n",
    "    H_{n+1}(x)=2xH_n(x)-2nH_{n-1}(x),\\quad n\\geq 1,\\tag{4}\n",
    "\\end{equation}\n",
    "with initial polynomials given as\n",
    "\\begin{equation}\n",
    "    \\begin{aligned}\n",
    "        H_0(x)&=1,\\\\\n",
    "        H_1(x)&=2x.\n",
    "    \\end{aligned}\\tag{5}\n",
    "\\end{equation}\n",
    "Thus the first few members of this sequence are\n",
    "\\begin{equation}\n",
    "    \\begin{aligned}\n",
    "        H_0(x)&=1,\\\\\n",
    "        H_1(x)&=2x,\\\\\n",
    "        H_2(x)&=4x^2-2,\\\\\n",
    "        H_3(x)&=8x^3-12x,\\\\\n",
    "        H_4(x)&=16x^4-48x^2+12.\n",
    "    \\end{aligned}\\tag{6}\n",
    "\\end{equation}\n",
    "\n",
    "The Hermite polynomials are orthogonal with respect to the weight function $w(x)=e^{-x^2}$\n",
    "\\begin{equation}\n",
    "    \\int_{\\mathbb{R}} H_n(x)H_m(x)e^{-x^2}\\,dx=\\sqrt{\\pi}2^nn!\\delta_{nm},\\tag{7}\n",
    "\\end{equation}\n",
    "where $\\delta_{nm}$ is the Kronecker delta.\n",
    "\n",
    "The Hermite polynomials are generally not suitable for our FPE due to their asymptotic behavior at infinities\n",
    "\\begin{equation}\n",
    "    H_n(x)\\sim\\frac{\\Gamma(n+1)}{\\Gamma\\left(\\frac{n}{2}+1\\right)}e^{\\frac{x^2}{2}}\\cos\\left(\\sqrt{2n+1}x-\\frac{n\\pi}{2}\\right)\\sim n^{\\frac{n}{2}}e^{\\frac{x^2}{2}}\\cos\\left(\\sqrt{2n+1}x-\\frac{n\\pi}{2}\\right),\\quad |x|\\longrightarrow\\infty.\\tag{8}\n",
    "\\end{equation}"
   ]
  },
  {
   "attachments": {},
   "cell_type": "markdown",
   "metadata": {},
   "source": [
    "### Hermite functions"
   ]
  },
  {
   "attachments": {},
   "cell_type": "markdown",
   "metadata": {},
   "source": [
    "Hermite functions are defined as follows\n",
    "\\begin{equation}\n",
    "    \\tilde{H}_n(x)=\\frac{1}{\\sqrt{2^nn!}}H_n(\\alpha x)w^{-1}_{\\alpha}(x),\\tag{9}\n",
    "\\end{equation}\n",
    "where $w_{\\alpha}(x)=e^{\\alpha^2x^2}$ is a weight function.\n",
    "In contrast to the Hermite polynomials, the Hermite functions have the following asymptotic behaviour\n",
    "\\begin{equation}\n",
    "\\tilde{H}_n(x)\\sim n^{-\\frac{1}{4}}\\cos\\left(\\sqrt{2n+1}x-\\frac{n\\pi}{2}\\right),\\quad |x|\\longrightarrow\\infty.\\tag{10}\n",
    "\\end{equation}\n",
    "Below we present the plot of first five Hermite polynomials and functions."
   ]
  },
  {
   "cell_type": "code",
   "execution_count": null,
   "metadata": {
    "cell_id": "6af985d7ed74487e9fa4064054a3a9de",
    "deepnote_cell_type": "code",
    "deepnote_to_be_reexecuted": false,
    "execution_millis": 567,
    "execution_start": 1685456921667,
    "source_hash": "1753d712"
   },
   "outputs": [],
   "source": [
    "fig = plt.figure(figsize=(18, 6))\n",
    "\n",
    "plt.subplot(1, 2, 1)\n",
    "x_1 = np.linspace(-2, 2, 1000)\n",
    "for n in range(5):\n",
    "    plt.plot(x_1, hermite(n)(x_1), label=fr'$H_{n}(x)$')\n",
    "\n",
    "plt.xlabel(r'$x$')\n",
    "plt.legend(loc='upper left')\n",
    "plt.title('The first five Hermite polynomials')\n",
    "\n",
    "plt.subplot(1, 2, 2)\n",
    "x_2 = np.linspace(-6, 6, 1000)\n",
    "for n in range(5):\n",
    "    plt.plot(x_2, hermiteFunc(x_2, n, 1), label=r'$\\tilde{H}$' + fr'$_{n}(x)$')\n",
    "\n",
    "plt.xlabel(r'$x$')\n",
    "plt.legend()\n",
    "plt.title('The first five Hermite functions')\n",
    "plt.suptitle('Comparison of first five Hermite polynomials and functions')\n",
    "plt.show()\n"
   ]
  },
  {
   "attachments": {},
   "cell_type": "markdown",
   "metadata": {},
   "source": [
    "We observe that the set of functions $\\left\\{\\tilde{H}_n(x), n\\geq 0\\right\\}$ defines a $L^2_{w_\\alpha}(\\mathbb{R})$-orthogonal system with scalar product given by formula\n",
    "\\begin{equation}\n",
    "    \\left(\\tilde{H}_n(x), \\tilde{H}_m(x)\\right)_{w_\\alpha}=\\frac{\\sqrt{\\pi}}{\\alpha}\\delta_{nm}.\\tag{11}\n",
    "\\end{equation}\n",
    "Therefore for all $y\\in L^2_{w_\\alpha}(\\mathbb{R})$, we can write\n",
    "\\begin{equation}\n",
    "    y(x)=\\sum_{n=0}^\\infty\\hat{y}_n\\tilde{H}(x),\\tag{12}\n",
    "\\end{equation}\n",
    "with the coefficients\n",
    "\\begin{equation}\n",
    "    \\hat{y}_n=\\frac{\\alpha}{\\sqrt{\\pi}}\\int_{\\mathbb{R}} y(x) \\tilde{H}_n(x) w_{\\alpha}(x)\\,dx,\\quad n\\geq 0.\\tag{13}\n",
    "\\end{equation}\n",
    "We will use this fact to approximate initial condition of FPE."
   ]
  },
  {
   "attachments": {},
   "cell_type": "markdown",
   "metadata": {},
   "source": [
    "### Gauss-Hermite quadrature"
   ]
  },
  {
   "attachments": {},
   "cell_type": "markdown",
   "metadata": {},
   "source": [
    "Gauss-Hermite quadrature is a form of Gauss quadrature that uses Hermite polynomials. It is used to approximate integrals of the following kind\n",
    "\\begin{equation}\n",
    "    \\int_{\\mathbb{R}}e^{-x^2}f(x)\\,dx.\\tag{14}\n",
    "\\end{equation}\n",
    "In this case\n",
    "\\begin{equation}\n",
    "    \\int_{\\mathbb{R}}e^{-x^2}f(x)\\,dx\\approx\\sum_{i=1}^n w_if(x_i),\\tag{15}\n",
    "\\end{equation}\n",
    "where $n$ is the number of sample points used. The $x_i$, where $i=1,2,\\ldots,n$ are the roots of the Hermite polynomial $H_n(x)$. The associated $w_i$ weights are given by\n",
    "\\begin{equation}\n",
    "    w_i=\\frac{2^{n-1}n!\\sqrt{\\pi}}{n^2\\left[H_{n-1}(x_i)\\right]^2}.\\tag{16}\n",
    "\\end{equation}"
   ]
  },
  {
   "attachments": {},
   "cell_type": "markdown",
   "metadata": {},
   "source": [
    "### Caputo fractional derivative"
   ]
  },
  {
   "attachments": {},
   "cell_type": "markdown",
   "metadata": {},
   "source": [
    "Caputo derivatve is one of the possible forms of fractional derivative. It is defined as\n",
    "\\begin{equation}\n",
    "    D^{\\nu}_tf(t)=\\frac{1}{\\Gamma(n-\\mu)}\\int_0^t(t-\\tau)^{n-\\nu-1}f^{n}(\\tau)\\,d\\tau,\\quad n=\\lceil\\nu\\rceil.\\tag{17}\n",
    "\\end{equation}\n",
    "Its Laplace transform is given by\n",
    "\\begin{equation}\n",
    "    \\mathcal{L}\\left\\{D^{\\nu}_tf(t)\\right\\}(s)=s^{\\nu}F(s)-\\sum_{k=0}^{n-1}s^{\\nu-k-1}f^{(k)}(0), \\quad \\mathcal{L}\\left\\{f(t)\\right\\}(s)=F(s).\\tag{18}\n",
    "\\end{equation}"
   ]
  },
  {
   "attachments": {},
   "cell_type": "markdown",
   "metadata": {},
   "source": [
    "### Mittag-Leffler function"
   ]
  },
  {
   "attachments": {},
   "cell_type": "markdown",
   "metadata": {},
   "source": [
    "The Mittag-Leffler function $E_{\\nu, \\theta}$ is a special function, which depends on two complex parameters $\\nu$ and $\\theta$. It may be defined by the following series provided that, the real part of $\\nu$ is strictly positive:\n",
    "\\begin{equation}\n",
    "    E_{\\nu, \\theta}(z)=\\sum_{k=0}^{\\infty}\\frac{z^k}{\\Gamma(\\nu k+\\theta)}.\\tag{19}\n",
    "\\end{equation}\n",
    "When $\\theta=1$, it is abbreviated as $E_{\\nu}(z)=E_{\\nu, 1}(z)$. In the case when both $\\nu$ and $\\theta$ are real and positive, the series converges for all values of the argument $z$, so the Mittag-Leffler function is an entire function. One can also easily prove that the following formula with Laplace transform $\\mathcal{L}$\n",
    "\\begin{equation}\n",
    "    \\mathcal{L}\\left\\{t^{\\theta-1}E_{\\nu, \\theta}(at^{\\nu})\\right\\}(s)=\\frac{s^{\\nu-\\theta}}{s^{\\nu}-a}.\\tag{20}\n",
    "\\end{equation}"
   ]
  },
  {
   "attachments": {},
   "cell_type": "markdown",
   "metadata": {},
   "source": [
    "## The Fokker-Planck equation for Itô processes"
   ]
  },
  {
   "attachments": {},
   "cell_type": "markdown",
   "metadata": {},
   "source": [
    "### Algorithm description"
   ]
  },
  {
   "attachments": {},
   "cell_type": "markdown",
   "metadata": {},
   "source": [
    "We consider a FPE corresponding to a representative stochastic process given by the Ornstein-Uhlenbeck process, and for simplicity we focus on a case in which the function $\\mu(x,t)=\\gamma x+u$ and $a(x,t)=2c$, where $\\gamma<0$ and $u, c>0$ are constants. In this case the FPE problem is given by\n",
    "\\begin{equation}\n",
    "    \\begin{cases}\n",
    "    \\partial_t f(x,t)=-\\partial_x((\\gamma x+u)f(x,t))+c\\partial_{xx}f(x,t),&\\quad (x,t)\\in\\mathbb{R}\\times (0,T);\\\\\n",
    "    f(x,0)=\\rho(x),&\\quad x\\in\\mathbb{R}.\\tag{21}\n",
    "    \\end{cases}\n",
    "\\end{equation}\n",
    "\n",
    "The probability density $f$ is approximated in the space of Hermite functions as follows\n",
    "\\begin{equation}\n",
    "    f(x,t)=\\sum_{n=0}^\\infty \\hat{f}_n(t)\\tilde{H}_n(x).\\tag{22}\n",
    "\\end{equation}\n",
    "The initial condition (probability density function of $X_{t_0}$) is also represnted  the Hermite functions space by\n",
    "\\begin{equation}\n",
    "    \\rho(x)=\\sum_{n=0}^\\infty \\hat{f}^0_n\\tilde{H}_n(x),\\tag{23}\n",
    "\\end{equation}\n",
    "where\n",
    "\\begin{equation}\n",
    "    \\hat{f}^0_n=\\frac{\\alpha}{\\sqrt{\\pi}}\\int_{\\mathbb{R}} y(x) \\tilde{H}_n(x) w_{\\alpha}(x)\\,dx,\\quad n\\geq 0.\\tag{24}\n",
    "\\end{equation}\n",
    "Introducing the Hermite expansion for $f$ into the equation $(21)$, we have\n",
    "\\begin{equation}\n",
    "    \\frac{d}{dt}\\hat{f}_n(t)=n\\gamma\\hat{f}_n(t)+\\alpha u\\sqrt{2u}\\hat{f}_{n-1}(t)+(\\gamma+2\\alpha^2c)\\sqrt{n(n-1)}\\hat{f}_{n-2}(t),\\tag{25}\n",
    "\\end{equation}\n",
    "for $n\\geq 0$ and with $\\hat{f}_{-1}(t)=\\hat{f}_{-2}(t)\\equiv 0$. This equation represents an infinite system of ODEs. We truncate it by considering the approximation\n",
    "\\begin{equation}\n",
    "    \\left[\\hat{f}_{0}(t), \\hat{f}_{1}(t), \\ldots \\right]\\approx\\left[\\hat{f}_{\\Delta,0}(t), \\hat{f}_{\\Delta,1}(t), \\ldots, \\hat{f}_{\\Delta,N}(t)\\right]\\tag{26}\n",
    "\\end{equation}\n",
    "Therefore, the system of ODEs which we solve is as follows\n",
    "\\begin{equation}\n",
    "    \\begin{cases}\n",
    "        \\frac{d}{dt}\\hat{f}_{\\Delta, n}(t)=n\\gamma\\hat{f}_{\\Delta, n}(t)+\\alpha u\\sqrt{2u}\\hat{f}_{\\Delta, n-1}(t)+(\\gamma+2\\alpha^2c)\\sqrt{n(n-1)}\\hat{f}_{\\Delta, n-2}(t),\\\\\n",
    "        \\hat{f}_{\\Delta, n}(0)=\\hat{f}^0_n,\\tag{27}\n",
    "    \\end{cases}\n",
    "\\end{equation}\n",
    "for $0\\leq n\\leq N, 0\\leq t\\leq T$ and $\\hat{f}_{\\Delta, -1}(t)=\\hat{f}_{\\Delta, -2}(t)\\equiv 0$. This corresponds to a Galerkin projection of $f(\\cdot, t)$ onto the Hermite approximation space: $\\operatorname{span}\\left\\{\\tilde{H}_n(x), n\\geq 0\\right\\}$. Writing this system of ODEs in the matrix form we obtain\n",
    "\\begin{equation}\n",
    "    \\frac{d\\hat{f}_{\\Delta}}{dt}=M_f\\hat{f}_{\\Delta},\\tag{28}\n",
    "\\end{equation}\n",
    "where\n",
    "\\begin{equation}\n",
    "    \\hat{f}_\\Delta=\\left[\\hat{f}_{\\Delta,0}(t), \\hat{f}_{\\Delta,1}(t), \\ldots, \\hat{f}_{\\Delta,N}(t)\\right]^T\\tag{29}\n",
    "\\end{equation}\n",
    "and $M_f$ is a $(N+1)\\times(N+1)$ three-diagonal matrix defined by the following formula\n",
    "\\begin{equation}\n",
    "    \\left(M_f\\right)_{ij}=\n",
    "    \\begin{cases}\n",
    "        n\\gamma, &i=j,\\\\\n",
    "        \\alpha u\\sqrt{2n}, &i=j+1,\\\\\n",
    "        (\\gamma+2\\alpha^2c)\\sqrt{n(n-1)}, &i=j+2,\\\\\n",
    "        0, &\\text{otherwise},\n",
    "    \\end{cases}\\tag{30}\n",
    "\\end{equation}\n",
    "where $n=i-1$. Notice that, the first row in $M_f$ consists of zeros. Since the matrix $M_f$ is triangular, it has $N+1$ distinct eigenvalues. Therefore $M_f$ is diagonalizable and the system of ODEs has the solution\n",
    "\\begin{equation}\n",
    "    \\hat{f}_{\\Delta}=e^{M_f t}\\hat{f}^0_n.\\tag{31}\n",
    "\\end{equation}\n",
    "Lastly, we specify the value of paramter $\\alpha$. To approximate qaussian type functions $e^{-sx^2}$, the scaling factor $\\alpha$ must satisfy $\\alpha\\in(0,\\sqrt{2s})$. The stationary solution ($\\partial_t f=0$) of $(21)$ is as follows\n",
    "\\begin{equation}\n",
    "    f(x)=C_0\\exp\\left(\\frac{\\gamma^2}{2c}x^2+\\frac{u}{c}x\\right),\\tag{32}\n",
    "\\end{equation}\n",
    "where $C_0$ is a constant. Comparing the stationary solution with the weight function $w_{\\alpha}(x)$, while $u=0$, motivates us to set $\\alpha=\\sqrt{-\\frac{\\gamma}{2c}}$."
   ]
  },
  {
   "attachments": {},
   "cell_type": "markdown",
   "metadata": {
    "cell_id": "01deff6a1b5d452a8f7376486e775398",
    "deepnote_cell_type": "text-cell-h2",
    "formattedRanges": []
   },
   "source": [
    "### Examples"
   ]
  },
  {
   "attachments": {},
   "cell_type": "markdown",
   "metadata": {},
   "source": [
    "In this section we consider few interesting examples of solutions of FPE with different initial conditions."
   ]
  },
  {
   "attachments": {},
   "cell_type": "markdown",
   "metadata": {},
   "source": [
    "#### Solution for $f(x,0)=\\delta(x)$"
   ]
  },
  {
   "attachments": {},
   "cell_type": "markdown",
   "metadata": {},
   "source": [
    "The general solution of\n",
    "\\begin{equation}\n",
    "    \\begin{cases}\n",
    "    \\partial_t f(x,t)=-\\partial_x((\\gamma x+u)f(x,t))+c\\partial_{xx}f(x,t),&\\quad (x,t)\\in\\mathbb{R}\\times (0,T);\\\\\n",
    "    f(x,0)=\\delta(x),&\\quad x\\in\\mathbb{R},\\tag{33}\n",
    "    \\end{cases}\n",
    "\\end{equation}\n",
    "is a gaussian distribution with mean $\\tilde{\\mu}(t)=\\frac{u}{\\gamma}\\left(e^{\\gamma t}-1\\right)$ and variance $\\tilde{\\sigma}^2(t)=\\frac{c}{\\gamma}\\left(e^{2\\gamma t}-1\\right)$, that is\n",
    "\\begin{equation}\n",
    "    f(x, t)=\\frac{1}{\\sqrt{2\\pi\\tilde{\\sigma}^2(t)}}\\exp\\left(-\\frac{(x-\\tilde{\\mu}(t))^2}{2\\tilde{\\sigma}^2(t)}\\right)\\tag{34}\n",
    "\\end{equation}\n",
    "Since it is impossible to represent the Dirac delta function $\\delta(0)$ by Hermite functions we have to apply a shift in time to obtain a gaussian function as initial condition. We consider time $t=1$ as a starting time of the process. Initial condition coefficients can be computed analytically, using the properties of Dirac delta we obtain\n",
    "\\begin{equation}\n",
    "    f_n^0=\\frac{\\alpha}{\\sqrt{n}}\\int_\\mathbb{R}\\delta(x)\\tilde{H}_n(x)w_{\\alpha}(x)\\,dx=\\frac{\\alpha}{\\sqrt{n}}\\tilde{H}_n(0),\\quad n\\geq0.\\tag{35}\n",
    "\\end{equation}\n",
    "We set parameters $c=1$, $\\gamma=-1$, $\\alpha=\\sqrt{-\\frac{\\gamma}{2c}}$ in accordance with $(33)$ and $N=15$. Results are presented as animation below.\n"
   ]
  },
  {
   "cell_type": "code",
   "execution_count": null,
   "metadata": {},
   "outputs": [],
   "source": [
    "def f_exact(x, t, c, gamma, u):\n",
    "    mu = u / gamma * (np.exp(gamma * t) - 1)\n",
    "    sigma2 = c / gamma * (np.exp(2 * gamma * t) - 1)\n",
    "    return 1 / np.sqrt(2 * np.pi * sigma2) * np.exp(-(x - mu) ** 2 / (2 * sigma2))\n"
   ]
  },
  {
   "cell_type": "code",
   "execution_count": null,
   "metadata": {},
   "outputs": [],
   "source": [
    "c = 1\n",
    "gamma = -1\n",
    "alpha = np.sqrt(-gamma / (2 * c))\n",
    "\n",
    "u = 2\n",
    "N = 15\n",
    "x = np.linspace(-5, 5, 100)\n",
    "ts = np.linspace(1, 5, 101)\n",
    "\n",
    "\n",
    "f0_n = alpha/np.sqrt(np.pi) * \\\n",
    "    np.array([[hermiteFunc(0, n, alpha)] for n in range(N+1)])\n",
    "M_f = M_f_ij(N, c, gamma, alpha, u)\n",
    "f_t = hermit_aprox(x, ts, f0_n, M_f, alpha, N)\n",
    "solution = np.array([f_exact(x, t, c, gamma, u) for t in ts])\n",
    "\n",
    "figure = plt.figure(figsize=(9, 6))\n",
    "animation = FuncAnimation(figure, func=animation_function, fargs=[\n",
    "                        x, ts, f_t, solution, (-0.1, 0.5)], frames=len(ts), interval=100)\n",
    "html = HTML(animation.to_jshtml())\n",
    "display(html)\n",
    "plt.close()\n"
   ]
  },
  {
   "attachments": {},
   "cell_type": "markdown",
   "metadata": {},
   "source": [
    "Difference between exact and numerical solutions are indistinguishable for $x\\in(-5,5)$ and $t\\in[1,5]$."
   ]
  },
  {
   "attachments": {},
   "cell_type": "markdown",
   "metadata": {
    "cell_id": "bd5c121b4370443380b2bba372701757",
    "deepnote_cell_type": "text-cell-h3",
    "formattedRanges": []
   },
   "source": [
    "#### Solution for $f(x,0)=\\exp\\left(-\\frac{x^2}{2}\\right)\\left(1+\\cos\\left(\\frac{\\pi}{2}x\\right)\\exp\\left({\\frac{\\pi^2}{8}}\\right)\\right)$"
   ]
  },
  {
   "attachments": {},
   "cell_type": "markdown",
   "metadata": {},
   "source": [
    "This example comes from doctoral thesis $[1]$. We notice that its solution does not define a probability density. Nevertheless it can also solved using this spectral method.\n",
    "\n",
    "Obtaining an analytical formula for coefficients $\\hat{f}_0^n$ would be challenging to say the least, so we shall use Hermite quadrature with $100$ sample points to approximate it. We maintain the same parameters as before, except for $N$, which is set to $10$. Again we present results as animation."
   ]
  },
  {
   "cell_type": "code",
   "execution_count": null,
   "metadata": {},
   "outputs": [],
   "source": [
    "def f_exact(x, t):\n",
    "    return np.exp(-x**2/2) * (1 + np.cos(np.pi/2 * x * np.exp(-t)) * np.exp(np.pi**2 / 8 * np.exp(-2 * t)))"
   ]
  },
  {
   "cell_type": "code",
   "execution_count": null,
   "metadata": {},
   "outputs": [],
   "source": [
    "c = 1\n",
    "Y = -1\n",
    "alpha = np.sqrt(-Y / (2 * c))\n",
    "u = 0\n",
    "N = 10\n",
    "\n",
    "figure = plt.figure(figsize=(9, 6))\n",
    "ts = np.linspace(0, 1, 101)\n",
    "x = np.linspace(-5, 5, 100)\n",
    "M_f = M_f_ij(N, c, Y, alpha, u)\n",
    "f_t = f(x, ts, N, alpha, lambda x: f_exact(x, 0), M_f, G_H_root=100)\n",
    "solution = np.array([f_exact(x, t) for t in ts])\n",
    "\n",
    "animation = FuncAnimation(figure, func=animation_function, fargs=[\n",
    "                        x, ts, f_t, solution, (-1, 5)], frames=len(ts), interval=100)\n",
    "html = HTML(animation.to_jshtml())\n",
    "display(html)\n",
    "plt.close()\n"
   ]
  },
  {
   "attachments": {},
   "cell_type": "markdown",
   "metadata": {},
   "source": [
    "Once again we achieve a very good approximation of the solution of FPE."
   ]
  },
  {
   "attachments": {},
   "cell_type": "markdown",
   "metadata": {},
   "source": [
    "### Comparison with numerical solution of SDE"
   ]
  },
  {
   "attachments": {},
   "cell_type": "markdown",
   "metadata": {},
   "source": [
    "Additionaly, example with $f(0,x)=\\delta(x)$ is solved using Runge-Kutta and Milstein methods. Histograms of trajectories are compared with results obtained using sepctral method applied to the corresponding FPE."
   ]
  },
  {
   "attachments": {},
   "cell_type": "markdown",
   "metadata": {},
   "source": [
    "#### Runge-Kutta method for SDE $[3]$ <t style=\"font-variant: small-caps\">\n",
    "\n",
    "Consider the stochastic differential equation\n",
    "\\begin{equation}\n",
    "\\begin{cases}\n",
    "dX_t=\\mu(X_t)\\,dt+\\sigma(X_t)\\,dW_t,\\\\\n",
    "X_{t_0}=X_0,\n",
    "\\end{cases}\\tag{36}\n",
    "\\end{equation}\n",
    "with initial condition $X_{0}=x_{0}$, where \n",
    "$W_{t}$ denotes standard Brownian motion. \n",
    "\n",
    "Suppose that we wish to solve $(36)$ on some finite time horizon $[0, T]$. Then the Runge-Kutta approximation is defined as follows. First, we partition the $[0, T]$ time interval into $N$ subintervals of length $\\Delta t$. Namely, $0=\\tau_0<\\tau_1< \\ldots <\\tau_n = T$, where $\\tau_n = n \\Delta t$, $\\Delta t = \\frac{T}{n}$. Next we set $Y_0 = x_0$. Finally, we define $Y_{n+1}$ as $Y_{n+1} = Y_n + \\mu(Y_n)\\Delta t + \\sigma(Y_n)\\Delta W_n + \\frac{1}{2}(\\sigma(\\Upsilon_n) - \\sigma(Y_n)((\\Delta W_n)^2 - \\Delta t)\\Delta t^{-\\frac{1}{2}}$, where $\\Delta W_n = W_{\\tau_{n+1}} - W_{\\tau_n}$ and $\\Upsilon_n =  Y_n + \\mu(Y_n)\\Delta t + \\sigma(Y_n)\\sqrt{\\Delta t}$. Then $Y_n$ is the numerical solution to given SDE."
   ]
  },
  {
   "cell_type": "code",
   "execution_count": null,
   "metadata": {},
   "outputs": [],
   "source": [
    "def f_exact(x, t, c, gamma, u):\n",
    "    mu = u / gamma * (np.exp(gamma * t) - 1)\n",
    "    sigma2 = c / gamma * (np.exp(2 * gamma * t) - 1)\n",
    "    return 1 / np.sqrt(2 * np.pi * sigma2) * np.exp(-(x - mu) ** 2 / (2 * sigma2))"
   ]
  },
  {
   "cell_type": "code",
   "execution_count": null,
   "metadata": {},
   "outputs": [],
   "source": [
    "def runge_kutta(T, N, Y_0, mu, sigma, n):\n",
    "    dt = T/N\n",
    "    trajectories = np.zeros((n, N))\n",
    "    for j in range(n):\n",
    "        ys = np.zeros(N)\n",
    "        ys[0] = Y_0\n",
    "        trajectories[j][0] = Y_0\n",
    "        for i in range(1, N):\n",
    "            y = ys[i - 1]\n",
    "            dw_ = np.random.normal(loc=0, scale=np.sqrt(dt))\n",
    "            Y = y + mu(y)*dt + sigma(y) * np.sqrt(dt)\n",
    "            ys[i] = y + mu(y)*dt + sigma(y) * dw_ + 0.5 * \\\n",
    "                (sigma(Y) - sigma(y)) * (dw_**2 - dt)*np.sqrt(dt)\n",
    "            trajectories[j][i] = y + mu(y)*dt + sigma(y) * dw_ + \\\n",
    "                0.5 * (sigma(Y) - sigma(y)) * (dw_**2 - dt)*np.sqrt(dt)\n",
    "    return trajectories\n"
   ]
  },
  {
   "cell_type": "code",
   "execution_count": null,
   "metadata": {},
   "outputs": [],
   "source": [
    "def milstein(T, N, Y_0, mu, sigma, sigma_prime, n):\n",
    "    dt = T/N\n",
    "    trajectories = np.zeros((n, N))\n",
    "    for j in range(n):\n",
    "        ys = np.zeros(N)\n",
    "        ys[0] = Y_0\n",
    "        trajectories[j][0] = Y_0\n",
    "        for i in range(1, N):\n",
    "            y = ys[i - 1]\n",
    "            dw_ = np.random.normal(loc=0, scale=np.sqrt(dt))\n",
    "            ys[i] = y + mu(y)*dt + sigma(y) * dw_ + 0.5 * \\\n",
    "                sigma(y) * sigma_prime(y) * (dw_**2 - dt)\n",
    "            trajectories[j][i] = y + mu(y)*dt + sigma(y) * dw_ + \\\n",
    "                0.5 * sigma(y) * sigma_prime(y) * (dw_**2 - dt)\n",
    "    return trajectories\n"
   ]
  },
  {
   "cell_type": "code",
   "execution_count": null,
   "metadata": {},
   "outputs": [],
   "source": [
    "def animation_function_3(i, x, ts, f_t, solution, SDE, ylim=None, xlim=None, method=None):\n",
    "    t = ts[i]\n",
    "    plt.clf()\n",
    "    if xlim:\n",
    "        plt.xlim(xlim)\n",
    "    if ylim:\n",
    "        plt.ylim(ylim)\n",
    "    plt.plot(x, solution[i], label='exact solution', zorder=1)\n",
    "    plt.scatter(x, f_t[i], marker='x', s=15, color='r',\n",
    "                label='numerical solution', zorder=2)\n",
    "    plt.hist(SDE[:, i+25], density=True,\n",
    "            bins=20, label='SDE solution')\n",
    "    \n",
    "    plt.title(\n",
    "        fr'Exact, numerical and SDE (by {method} method) solutions of FPE for $x\\in(-5,5), t={t:.2f}$')\n",
    "    plt.legend()"
   ]
  },
  {
   "cell_type": "code",
   "execution_count": null,
   "metadata": {},
   "outputs": [],
   "source": [
    "c = 1\n",
    "gamma = -1\n",
    "alpha = np.sqrt(-gamma / (2 * c))\n",
    "u = 2\n",
    "N = 15\n",
    "x = np.linspace(-5, 5, 100)\n",
    "ts = np.linspace(1, 5, 101)\n",
    "X_0 = 0\n",
    "\n",
    "f0_n = alpha/np.sqrt(np.pi) * w_alpha(X_0, alpha) * \\\n",
    "    np.array([[hermiteFunc(X_0, n, alpha)] for n in range(N+1)])\n",
    "M_f = M_f_ij(N, c, gamma, alpha, u)\n",
    "f_t = hermit_aprox(x, ts, f0_n, M_f, alpha, N)\n",
    "solution = np.array([f_exact(x, t, c, gamma, u) for t in ts])\n",
    "\n",
    "\n",
    "def mu_test(x): return gamma*x + u\n",
    "def sigma_test(x): return np.sqrt(2*c)\n",
    "def sigma_prime_test(x): return 0\n",
    "\n",
    "test_runge_kutta = runge_kutta(5, 126, X_0, mu_test, sigma_test, 10000)\n"
   ]
  },
  {
   "cell_type": "code",
   "execution_count": null,
   "metadata": {},
   "outputs": [],
   "source": [
    "figure = plt.figure(figsize=(9, 6))\n",
    "animation = FuncAnimation(figure, func=animation_function_3, fargs=[\n",
    "                        x, ts, f_t, solution, test_runge_kutta, (-0.1, 0.5), (-6,6) , \"Runge Kutta\"], frames=len(ts), interval=100)\n",
    "html = HTML(animation.to_jshtml())\n",
    "display(html)\n",
    "plt.close()"
   ]
  },
  {
   "attachments": {},
   "cell_type": "markdown",
   "metadata": {},
   "source": [
    "Histograms of trajectories obtained using Runge-Kutta method and results obtained using sepctral method fit almost perfectly."
   ]
  },
  {
   "attachments": {},
   "cell_type": "markdown",
   "metadata": {},
   "source": [
    "#### Milstein method $[4]$ <t style=\"font-variant: small-caps\">"
   ]
  },
  {
   "attachments": {},
   "cell_type": "markdown",
   "metadata": {},
   "source": [
    "Another method to solve $(36)$ is called Milstein method. Again partition the time interval $[0, T]$ into $N$ equal subintervals of width $\\Delta t$ and set $Y_0=x_0$. Recursively put $Y_{n+1}=Y_n+\\mu(Y_n)\\Delta t+\\sigma(Y_n)\\Delta W_n+\\frac{1}{2}\\sigma(Y_n)\\sigma'(Y_n)\\left[(\\Delta W_n)^2-\\Delta t\\right]$, where $\\Delta W_n=W_{\\tau_{n+1}}-W_{\\tau_{n}}$ are independent and identically distributed normal random variables with expected value zero and variance $\\Delta t$."
   ]
  },
  {
   "cell_type": "code",
   "execution_count": null,
   "metadata": {},
   "outputs": [],
   "source": [
    "test_milstein = milstein(5, 126, X_0, mu_test, sigma_test, sigma_prime_test, 10000)\n",
    "figure = plt.figure(figsize=(9, 6))\n",
    "animation = FuncAnimation(figure, func=animation_function_3, fargs=[\n",
    "                        x, ts, f_t, solution, test_milstein, (-0.1, 0.5), (-6,6) , \"Milstein\"], frames=len(ts), interval=100)\n",
    "html = HTML(animation.to_jshtml())\n",
    "display(html)\n",
    "plt.close()"
   ]
  },
  {
   "attachments": {},
   "cell_type": "markdown",
   "metadata": {},
   "source": [
    "Histograms of trajectories obtained using Milstein method and results obtained using sepctral method fit almost perfectly."
   ]
  },
  {
   "attachments": {},
   "cell_type": "markdown",
   "metadata": {},
   "source": [
    "## Fractional Fokker-Planck equation"
   ]
  },
  {
   "attachments": {},
   "cell_type": "markdown",
   "metadata": {},
   "source": [
    "We now turn to fractional Fokker-Planck equation (abbrevaited as FFPE). It is used to model subdiffusion, the movement of particles in porous medium and gels. FFPE is defined by:\n",
    "\\begin{equation}\n",
    "    \\begin{cases}\n",
    "    D_t^{\\nu} f(x,t)=-\\partial_x((\\gamma x+u)f(x,t))+c\\partial_{xx}f(x,t),&\\quad (x,t)\\in\\mathbb{R}\\times (0,T);\\\\\n",
    "    f(x,0)=\\rho(x),&\\quad x\\in\\mathbb{R},\n",
    "    \\end{cases}\\tag{37}\n",
    "\\end{equation}\n",
    "where $D_t^{\\nu} f(x,t)$ is a Caputo fractional derivative of $f(x,t)$ with respect to $t$ and order $\\nu\\in(0,1)$. Following the same logic as before we obtain a system of FDEs\n",
    "\\begin{equation}\n",
    "    \\begin{cases}\n",
    "        D_t^{\\nu}\\hat{f}_\\Delta=M_f\\hat{f}_\\Delta,\\\\\n",
    "        \\hat{f}_\\Delta(0)=\\hat{f}_n^0.\n",
    "    \\end{cases}\\tag{38}\n",
    "\\end{equation}\n",
    "We solve this problem using Laplace transform and equations $(18)$ and $(20)$\n",
    "\\begin{equation}\n",
    "    \\begin{aligned}\n",
    "        &\\mathcal{L}\\left\\{D_t^{\\nu}\\hat{f}_\\Delta\\right\\}(s)-M_f\\mathcal{L}\\left\\{\\hat{f}_\\Delta\\right\\}(s)=0\\\\\n",
    "        &s^{\\nu}\\hat{F}_\\Delta-\\sum_{k=0}^{n-1}s^{\\nu-k-1}\\hat{f}_\\Delta^{(k)}(0)-M_f\\hat{F}_\\Delta=0,\\quad \\hat{F}_\\Delta(s)=\\mathcal{L}\\left\\{\\hat{f}_\\Delta(t)\\right\\}(s),\\\\\n",
    "        &n=1\\Longrightarrow s^{\\nu}\\hat{F}_\\Delta s^{\\nu-1}\\hat{f}_\\Delta(0)-M_f\\hat{F}_\\Delta=0\\\\\n",
    "        &\\hat{F}_\\Delta=\\frac{s^{\\nu-1}}{s^{\\nu}-M_f}\\hat{f}_n^0,\\\\\n",
    "        &\\hat{f}_\\Delta=\\mathcal{L}^{-1}\\left\\{\\frac{s^{\\nu-1}}{s^{\\nu}-M_f}\\right\\}\\hat{f}_n^0,\\\\\n",
    "        &\\hat{f}_\\Delta=E_{\\nu}\\left(M_f t^{\\nu}\\right)\\hat{f}_n^0,\n",
    "    \\end{aligned}\\tag{39}\n",
    "\\end{equation}\n",
    "where $E_{\\nu}$ is the Mittag-Leffler function. We are not aware of any existing implementation of this special function in Python for matrices. However we found one for vectors. As we mentioned before our martix $M_f$ is diagonalizable. We denote the vector of its eigenvalues as $\\vec{\\lambda}=(\\lambda_1, \\lambda_2, \\ldots, \\lambda_{N+1})$. Thus we can simply apply the vector Mittag-Leffler function on $M_f$ by formula\n",
    "\\begin{equation}\n",
    "    E_\\nu(M_f)=P^{-1}\\operatorname{diag}\\left(E_\\nu(\\vec{\\lambda})\\right)P,\n",
    "\\end{equation}\\tag{40}\n",
    "where by $\\operatorname{diag}\\left(E_\\nu(\\vec{\\lambda})\\right)$ we understand a diagonal matrix filled with elements of vector $E_\\nu(\\vec{\\lambda})$.\n",
    "\n",
    "Below we present how the solution of FFPE differs from the solution of standard FPE for various values of $\\nu$."
   ]
  },
  {
   "cell_type": "code",
   "execution_count": null,
   "metadata": {},
   "outputs": [],
   "source": [
    "def f_exact(x, t, c, gamma, u):\n",
    "    mu = u / gamma * (np.exp(gamma * t) - 1)\n",
    "    sigma2 = c / gamma * (np.exp(2 * gamma * t) - 1)\n",
    "    return 1 / np.sqrt(2 * np.pi * sigma2) * np.exp(-(x - mu) ** 2 / (2 * sigma2))\n"
   ]
  },
  {
   "cell_type": "code",
   "execution_count": null,
   "metadata": {},
   "outputs": [],
   "source": [
    "def f0_n(N, alpha):\n",
    "    result = np.zeros((N + 1, 1))\n",
    "    for n in range(N + 1):\n",
    "        result[n] = alpha / np.sqrt(np.pi) * hermiteFunc(0, n, alpha)\n",
    "    return result\n"
   ]
  },
  {
   "cell_type": "code",
   "execution_count": null,
   "metadata": {},
   "outputs": [],
   "source": [
    "def ML(X, alpha):\n",
    "    eigval, P = np.linalg.eig(X)\n",
    "    D = np.diag(ml(eigval, alpha))\n",
    "\n",
    "    return np.matmul(np.matmul(P, D), np.linalg.inv(P))\n"
   ]
  },
  {
   "cell_type": "code",
   "execution_count": null,
   "metadata": {},
   "outputs": [],
   "source": [
    "def ffrac(x, t, N, c, gamma, alpha, u, nu):\n",
    "    H = np.zeros((N + 1, len(x)))\n",
    "\n",
    "    for n in range(N + 1):\n",
    "        H[n] = hermiteFunc(x, n, alpha)\n",
    "\n",
    "    return np.matmul(np.matmul(ML(M_f_ij(N, c, gamma, alpha, u) * t ** nu, nu), f0_n(N, alpha)).T, H).T\n"
   ]
  },
  {
   "cell_type": "code",
   "execution_count": null,
   "metadata": {},
   "outputs": [],
   "source": [
    "c = 1\n",
    "gamma = -1\n",
    "alpha = np.sqrt(-gamma / (2 * c))\n",
    "u = 2\n",
    "N = 15\n",
    "\n",
    "x = np.linspace(-5, 5, 100)\n",
    "t = np.arange(1, 5.1, 0.1)\n",
    "nu = [0.3, 0.5, 0.7, 0.9]\n",
    "\n",
    "figure = plt.figure(figsize=(18, 12))\n",
    "\n",
    "\n",
    "def animation_function_2(i):\n",
    "    plt.clf()\n",
    "\n",
    "    plt.subplot(2, 2, 1)\n",
    "    plt.ylim(-0.1, 0.5)\n",
    "    plt.plot(x, f_exact(x, t[i], c, gamma, u),\n",
    "            label=r'exact solution of FPE ($\\nu=1$)', zorder=1)\n",
    "    plt.scatter(x, ffrac(x, t[i], N, c, gamma, alpha, u, nu[0]),\n",
    "                marker='x', s=15, color='r', label='numerical solution', zorder=2)\n",
    "    plt.title(\n",
    "        fr'Exact and numerical solution of FFPE for $x\\in(-5,5), t={np.round(t[i], 1)}, \\nu={nu[0]}$')\n",
    "    plt.legend(loc='upper left')\n",
    "\n",
    "    plt.subplot(2, 2, 2)\n",
    "    plt.ylim(-0.1, 0.5)\n",
    "    plt.plot(x, f_exact(x, t[i], c, gamma, u),\n",
    "            label=r'exact solution of FPE ($\\nu=1$)', zorder=1)\n",
    "    plt.scatter(x, ffrac(x, t[i], N, c, gamma, alpha, u, nu[1]),\n",
    "                marker='x', s=15, color='r', label='numerical solution', zorder=2)\n",
    "    plt.title(\n",
    "        fr'Exact and numerical solution of FFPE for $x\\in(-5,5), t={np.round(t[i], 1)}, \\nu={nu[1]}$')\n",
    "    plt.legend(loc='upper left')\n",
    "\n",
    "    plt.subplot(2, 2, 3)\n",
    "    plt.ylim(-0.1, 0.5)\n",
    "    plt.plot(x, f_exact(x, t[i], c, gamma, u),\n",
    "            label=r'exact solution of FPE ($\\nu=1$)', zorder=1)\n",
    "    plt.scatter(x, ffrac(x, t[i], N, c, gamma, alpha, u, nu[2]),\n",
    "                marker='x', s=15, color='r', label='numerical solution', zorder=2)\n",
    "    plt.title(\n",
    "        fr'Exact and numerical solution of FFPE for $x\\in(-5,5), t={np.round(t[i], 1)}, \\nu={nu[2]}$')\n",
    "    plt.legend(loc='upper left')\n",
    "\n",
    "    plt.subplot(2, 2, 4)\n",
    "    plt.ylim(-0.1, 0.5)\n",
    "    plt.plot(x, f_exact(x, t[i], c, gamma, u),\n",
    "            label=r'exact solution of FPE ($\\nu=1$)', zorder=1)\n",
    "    plt.scatter(x, ffrac(x, t[i], N, c, gamma, alpha, u, nu[3]),\n",
    "                marker='x', s=15, color='r', label='numerical solution', zorder=2)\n",
    "    plt.title(\n",
    "        fr'Exact and numerical solution of FFPE for $x\\in(-5,5), t={np.round(t[i], 1)}, \\nu={nu[3]}$')\n",
    "    plt.legend(loc='upper left')\n",
    "\n",
    "\n",
    "animation = FuncAnimation(\n",
    "    figure, func=animation_function_2, frames=len(t), interval=100)\n",
    "html = HTML(animation.to_jshtml())\n",
    "display(html)\n",
    "plt.close()"
   ]
  },
  {
   "attachments": {},
   "cell_type": "markdown",
   "metadata": {},
   "source": [
    "We observe that the closer the order of derivative $\\nu$ is to $1$, the more similar solutions are."
   ]
  },
  {
   "attachments": {},
   "cell_type": "markdown",
   "metadata": {},
   "source": [
    "## Properties of spectral method"
   ]
  },
  {
   "attachments": {},
   "cell_type": "markdown",
   "metadata": {},
   "source": [
    "### Conservativity"
   ]
  },
  {
   "attachments": {},
   "cell_type": "markdown",
   "metadata": {},
   "source": [
    "Important property of the numerical scheme is that the Hermite spectral discretization provides conservativity, it means that\n",
    "\\begin{equation}\n",
    "    \\int_\\mathbb{R} f_\\Delta (x,t)\\,dx = \\int_\\mathbb{R} f_\\Delta (x,0)\\,dx.\\tag{41}\n",
    "\\end{equation}\n",
    "We confirm this property numerically."
   ]
  },
  {
   "cell_type": "code",
   "execution_count": null,
   "metadata": {},
   "outputs": [],
   "source": [
    "def f_exact(x, t):\n",
    "    return np.exp(-x**2/2) * (1 + np.cos(np.pi/2 * x * np.exp(-t)) * np.exp(np.pi**2 / 8 * np.exp(-2 * t)))"
   ]
  },
  {
   "cell_type": "code",
   "execution_count": null,
   "metadata": {},
   "outputs": [],
   "source": [
    "c = 1\n",
    "Y = -1\n",
    "alpha = np.sqrt(-Y / (2 * c))\n",
    "u = 0\n",
    "x = np.linspace(-5, 5, 100)\n",
    "\n",
    "ts = np.linspace(0, 2, 100)\n",
    "dx = 0.1\n",
    "xs = np.arange(-5, 5, dx)\n",
    "df_conservativity = pd.DataFrame()\n",
    "for N in np.arange(0, 15, 2, dtype=int):\n",
    "    M_f = M_f_ij(N, c, Y, alpha, u)\n",
    "    f_t = f(x, ts, N, alpha, lambda x: f_exact(x, 0), M_f, G_H_root=100)\n",
    "    _df = pd.DataFrame(np.sum(f_t, 1)*dx, columns=[\"aprox\"])\n",
    "    _df[\"t\"] = ts\n",
    "    _df[\"N\"] = N\n",
    "    df_conservativity = pd.concat([df_conservativity, _df])\n"
   ]
  },
  {
   "cell_type": "code",
   "execution_count": null,
   "metadata": {},
   "outputs": [],
   "source": [
    "fig, ax = plt.subplots(1, 2, figsize=(18, 6))\n",
    "sns.lineplot(df_conservativity, x=\"t\", y=\"aprox\", hue=\"N\", ax=ax[0])\n",
    "sns.lineplot(df_conservativity, x=\"t\", y=\"aprox\", hue=\"N\", ax=ax[1])\n",
    "ax[0].set_ylim(0, 6)\n",
    "ax[0].set_ylabel(\"$\\\\int_\\\\mathbb{R} \\\\hat f_\\\\Delta (x,t) dx$\")\n",
    "ax[0].set_title(\"Conservativity approximation\")\n",
    "ax[1].set_ylabel(\"\")\n",
    "ax[1].set_title(\"Zoom\")\n",
    "\n",
    "plt.show()"
   ]
  },
  {
   "attachments": {},
   "cell_type": "markdown",
   "metadata": {},
   "source": [
    "We observe that for all values of $N$ the property of conservativity holds."
   ]
  },
  {
   "attachments": {},
   "cell_type": "markdown",
   "metadata": {},
   "source": [
    "### Spectral convergence"
   ]
  },
  {
   "attachments": {},
   "cell_type": "markdown",
   "metadata": {},
   "source": [
    "Substituting the Hermite expansion into the FPE results in an infinite system of linear ODEs. Corresponding to this system, there is a matrix $M_\\infty$, which is lower triangular. To have a practical scheme, we have to truncate this matrix, or equivalently, consider some truncated system of ODEs. However, this truncation is a source of error in our discretization scheme. It can be show that the approximation for the state variable is spectrally convergent:\n",
    "\n",
    "***Lemma:*** *If $f \\in L^\\infty(0,T,H_{w_\\alpha}^t(\\mathbb{R})), r > 1$, then for all $t \\in [0,T]$ the following holds*\n",
    "\\begin{equation}\n",
    "        ||f(\\cdot ,t) - f_\\Delta (\\cdot ,t)||_{w_\\alpha}^2 = O(N^{-r})\\tag{42}.\n",
    "\\end{equation}"
   ]
  },
  {
   "cell_type": "code",
   "execution_count": null,
   "metadata": {},
   "outputs": [],
   "source": [
    "def approx_norm_w_alpha(f_t, x, alpha):\n",
    "    dx = x[1] - x[0]\n",
    "    return math.sqrt(np.sum((f_t)**2*w_alpha(x, alpha)) * dx)\n"
   ]
  },
  {
   "cell_type": "code",
   "execution_count": null,
   "metadata": {},
   "outputs": [],
   "source": [
    "c = 1\n",
    "Y = -1\n",
    "u = 0\n",
    "\n",
    "ts = np.linspace(0, 2, 10)\n",
    "dx = 0.1\n",
    "xs = np.arange(-5, 5, dx)\n",
    "Ns = range(0, 39)\n",
    "df_convergent = pd.DataFrame(columns=[*Ns, \"alpha\", \"t\"])\n",
    "\n",
    "\n",
    "def f_0(x): return f_exact(x, 0)\n",
    "\n",
    "\n",
    "for alpha in [0.3, 0.4, 0.6, 0.65, np.sqrt(-Y / (2 * c)), 0.75, 0.8, 0.9, 1]:\n",
    "    for t in ts:\n",
    "        norms = np.zeros(len(Ns))\n",
    "        for i, N in enumerate(Ns):\n",
    "            M_f = M_f_ij(N, c, Y, alpha, u)\n",
    "            f_t = f(x, [t], N, alpha, f_0, M_f, G_H_root=100)\n",
    "            solution = f_exact(x, t)\n",
    "            norms[i] = approx_norm_w_alpha(f_t[0] - solution, x, alpha)\n",
    "        norm_df = pd.DataFrame([norms**2])\n",
    "        norm_df[\"alpha\"] = alpha\n",
    "        norm_df[\"t\"] = t\n",
    "        df_convergent = pd.concat([df_convergent, norm_df], axis=0)\n"
   ]
  },
  {
   "cell_type": "code",
   "execution_count": null,
   "metadata": {},
   "outputs": [],
   "source": [
    "melt_df = df_convergent.melt([\"t\", \"alpha\"])\n",
    "\n",
    "melt_df[\"alpha\"] = melt_df[\"alpha\"].round(4)\n",
    "melt_df[\"t\"] = melt_df[\"t\"].round(3)\n",
    "melt_df.rename(columns={\"variable\": \"N\"}, inplace=True)\n",
    "g = sns.FacetGrid(melt_df, col=\"alpha\", col_wrap=3, hue=\"t\",  height=4)\n",
    "g.map(sns.lineplot, \"N\", \"value\")\n",
    "g.add_legend()\n",
    "for ax in g.axes:\n",
    "    ax.set_ylabel(\"$||f - f_\\\\Delta ||^2_{w_\\\\alpha}$\")\n",
    "    ax.set_title(ax.get_title().replace(\"alpha\", \"$\\\\alpha$\"))\n",
    "plt.yscale(\"log\")\n",
    "g.fig.subplots_adjust(top=0.93)\n",
    "g.fig.suptitle(\"Spectral convergence\")\n",
    "plt.show()"
   ]
  },
  {
   "attachments": {},
   "cell_type": "markdown",
   "metadata": {},
   "source": [
    "Considering the above plots, we can conclude that the $\\alpha$ parameter has a considerable impact on the type of convergence. \n",
    "By making a good choice of the $\\alpha$ parameter, we can achieve convergence much better than algebraic.\n",
    "Even supergeometric convergence can be obtained in the best case, when $\\alpha$ is chosen in accordance with considerations following from $(32)$. \n"
   ]
  },
  {
   "attachments": {},
   "cell_type": "markdown",
   "metadata": {},
   "source": [
    "### Time convergence"
   ]
  },
  {
   "attachments": {},
   "cell_type": "markdown",
   "metadata": {},
   "source": [
    "Furthermore, we can analyze the convergence of the algorithm over time."
   ]
  },
  {
   "cell_type": "code",
   "execution_count": null,
   "metadata": {},
   "outputs": [],
   "source": [
    "N_lim = 30\n",
    "g = sns.FacetGrid(melt_df[melt_df[\"N\"] < N_lim],\n",
    "                col=\"alpha\", col_wrap=3, hue=\"N\",  height=4)\n",
    "g.map(sns.lineplot, \"t\", \"value\")\n",
    "g.add_legend()\n",
    "for ax in g.axes:\n",
    "    ax.set_ylabel(\"$||f - f_\\\\Delta ||^2_{w_\\\\alpha}$\")\n",
    "    ax.set_title(ax.get_title().replace(\"alpha\", \"$\\\\alpha$\"))\n",
    "plt.yscale(\"log\")\n",
    "g.fig.subplots_adjust(top=0.93)\n",
    "g.fig.suptitle(\"Time convergence\")\n",
    "plt.show()"
   ]
  },
  {
   "attachments": {},
   "cell_type": "markdown",
   "metadata": {},
   "source": [
    "As in the previous case, the convergence is strongly dependent on the choice of the $\\alpha$ parameter. In the tested example, we see that geometric convergence can be achieved in the best case. "
   ]
  },
  {
   "attachments": {},
   "cell_type": "markdown",
   "metadata": {},
   "source": [
    "### Stability"
   ]
  },
  {
   "attachments": {},
   "cell_type": "markdown",
   "metadata": {},
   "source": [
    "The following theorem provides an appropriate means to show that the Hermite discretization method is stable.\n",
    "\n",
    "***Theorem:*** *Let $\\hat{f}_\\Delta(t)$ be the solution to*\n",
    "\\begin{equation}\n",
    "    \\frac{d}{dt}\\hat{f}_\\Delta(t) = M_f \\hat{f}_\\Delta(0).\\tag{43}\n",
    "\\end{equation}\n",
    "*Then there exists a constant $C_N>0$ such that for all $t>0$*\n",
    "\\begin{equation}\n",
    "    ||\\hat{f}^t_\\Delta||_{w_{\\alpha}} \\le C_N ||\\hat{f}_\\Delta^0||_{w_{\\alpha}}.\\tag{44}\n",
    "\\end{equation}\n"
   ]
  },
  {
   "cell_type": "code",
   "execution_count": null,
   "metadata": {},
   "outputs": [],
   "source": [
    "Y = -1\n",
    "u = 0\n",
    "c = 1\n",
    "\n",
    "ts = np.linspace(0, 5, 50)\n",
    "dx = 0.1\n",
    "xs = np.arange(-5, 5, dx)\n",
    "Ns = np.arange(2, 27, 8, dtype=int)\n",
    "\n",
    "\n",
    "def f_0(x): return f_exact(x, 0)\n",
    "\n",
    "\n",
    "df_stable = pd.DataFrame(columns=[*Ns, \"alpha\", \"t\"])\n",
    "for alpha in [0.3, 0.4, 0.6, 0.65, np.sqrt(-Y / (2 * c)), 0.75, 0.8, 0.9, 1]:\n",
    "    for t in ts:\n",
    "        norms = np.zeros(len(Ns))\n",
    "        for i, N in enumerate(Ns):\n",
    "            M_f = M_f_ij(N, c, Y, alpha, u)\n",
    "            norm_f_0 = approx_norm_w_alpha(f_0(x), x, alpha)\n",
    "            f_t = f(x, [t], N, alpha, f_0, M_f, G_H_root=100)\n",
    "            norm_f_t = approx_norm_w_alpha(f_t, x, alpha)\n",
    "            norms[i] = norm_f_t / norm_f_0\n",
    "\n",
    "        norm_df = pd.DataFrame([norms], columns=Ns)\n",
    "        norm_df[\"alpha\"] = alpha\n",
    "        norm_df[\"t\"] = t\n",
    "        df_stable = pd.concat([df_stable, norm_df], axis=0)\n"
   ]
  },
  {
   "cell_type": "code",
   "execution_count": null,
   "metadata": {},
   "outputs": [],
   "source": [
    "melt_df = df_stable.melt([\"t\", \"alpha\"])\n",
    "melt_df[\"alpha\"] = melt_df[\"alpha\"].round(4)\n",
    "melt_df[\"t\"] = melt_df[\"t\"].round(3)\n",
    "melt_df.rename(columns={\"variable\": \"N\"}, inplace=True)\n",
    "\n",
    "g = sns.FacetGrid(melt_df, col=\"N\", col_wrap=2,  height=5, hue=\"alpha\")\n",
    "g.map(sns.lineplot, \"t\", \"value\")\n",
    "g.add_legend()\n",
    "for ax in g.axes:\n",
    "    ax.set_ylabel(\n",
    "        \"$\\\\frac{||\\\\hat{f}_\\\\Delta^t||_{w_\\\\alpha}}{||f_\\Delta^0||_{w_\\\\alpha}}$\")\n",
    "    ax.set_title(ax.get_title().replace(\"alpha\", \"$\\\\alpha$\"))\n",
    "g.fig.subplots_adjust(top=0.93)\n",
    "g.fig.suptitle(\"Stablity\")\n",
    "plt.show()"
   ]
  },
  {
   "attachments": {},
   "cell_type": "markdown",
   "metadata": {},
   "source": [
    "In the present case, it is evident that all the solutions are upper bound. Consequently, we can observe that the simulation confirms the validity of the stability assumption."
   ]
  },
  {
   "attachments": {},
   "cell_type": "markdown",
   "metadata": {},
   "source": [
    "### Additional numerical experiments"
   ]
  },
  {
   "attachments": {},
   "cell_type": "markdown",
   "metadata": {},
   "source": [
    "Finally we conduct some further numerical experments, presenting how the solution behaves for different sets of parametrs $N$, $t$ and $\\alpha$."
   ]
  },
  {
   "cell_type": "code",
   "execution_count": null,
   "metadata": {},
   "outputs": [],
   "source": [
    "c = 1\n",
    "Y = -1\n",
    "u = 0\n",
    "ts = np.linspace(0, 1, 10)\n",
    "ts = [0, 0.5, 1]\n",
    "xs = np.linspace(-5, 5, 100)\n",
    "Ns = [2, 5, 10]\n",
    "df_experiment = pd.DataFrame(columns=[*xs, \"N\", \"alpha\", \"t\"])\n",
    "\n",
    "def f_0(x): return f_exact(x, 0)\n",
    "for alpha in [0.5, np.sqrt(-Y / (2 * c)), 0.8]:\n",
    "    for N in Ns:\n",
    "        M_f = M_f_ij(N, c, Y, alpha, u)\n",
    "        f_t = f(xs, ts, N, alpha, f_0, M_f, G_H_root=100)\n",
    "        _df = pd.DataFrame(f_t, columns=xs)\n",
    "        _df[\"alpha\"] = alpha\n",
    "        _df[\"N\"] = N\n",
    "        _df[\"t\"] = ts\n",
    "        df_experiment = pd.concat([df_experiment, _df])"
   ]
  },
  {
   "cell_type": "code",
   "execution_count": null,
   "metadata": {},
   "outputs": [],
   "source": [
    "melt_df_experiment = df_experiment.melt(\n",
    "    [\"N\", \"alpha\", \"t\"], var_name=\"x\", value_name=\"f\")\n",
    "melt_df_experiment['alpha'] = np.round(melt_df_experiment[\"alpha\"], 2)\n",
    "style = {\"marker\": [\"s\", \"^\", \"o\"], \"alpha\": [0.9] * 3, \"ls\": [\"\", \"\", \"\"]}\n",
    "g = sns.FacetGrid(melt_df_experiment, row=\"t\", col=\"N\", hue=\"alpha\",\n",
    "                margin_titles=True, height=3.5, hue_kws=style)\n",
    "g.map(sns.lineplot, \"x\", \"f\")\n",
    "for i, ax in enumerate(g.axes[0]):\n",
    "    _df = pd.DataFrame([xs, f_exact(xs, ts[i//3])]).T\n",
    "    _df.columns = [\"xs\", \"f\"]\n",
    "    sns.lineplot(_df, x=\"xs\", y=\"f\", ax=ax)\n",
    "\n",
    "g.fig.subplots_adjust(top=0.92)\n",
    "g.fig.suptitle(r\"Numerical (marks) and exact solution (solid line) to the FP equation with different $\\alpha$ factors\")\n",
    "plt.show()"
   ]
  },
  {
   "attachments": {},
   "cell_type": "markdown",
   "metadata": {},
   "source": [
    "The graph above illustrates how the numerical solution converges to an exact solution as $t$ and $N$ increase."
   ]
  },
  {
   "cell_type": "code",
   "execution_count": null,
   "metadata": {},
   "outputs": [],
   "source": [
    "df = []\n",
    "for t in [0, 0.5, 1]:\n",
    "    for alpha in [0.5, np.sqrt(-Y / (2 * c)), 0.8]:\n",
    "        for N in Ns:\n",
    "            _df_experiment = df_experiment[(df_experiment[\"t\"] == t) &\n",
    "                                           (df_experiment['alpha'] == alpha) &\n",
    "                                           (df_experiment['N'] == N)\n",
    "                                           ]\n",
    "            norm = approx_norm_w_alpha(np.array(_df_experiment[xs] - f_exact(xs, t)), xs, 0)\n",
    "            df.append([t, alpha, N, norm])\n",
    "df = pd.DataFrame(df, columns=[\"t\", \"alpha\", \"N\", \"norm\"])\n",
    "pivot_df = df.pivot_table(df, index=[\"t\", \"alpha\"], columns=\"N\")\n",
    "pivot_df.rename(columns={\"norm\": \"||f_Delta - f_exact||_2\"}, inplace=True)\n",
    "pivot_df"
   ]
  },
  {
   "attachments": {},
   "cell_type": "markdown",
   "metadata": {},
   "source": [
    "In the above table, we can see  how fast the error decreases when $t$ and $N$ increase."
   ]
  },
  {
   "attachments": {},
   "cell_type": "markdown",
   "metadata": {},
   "source": [
    "## Bibliography"
   ]
  },
  {
   "attachments": {},
   "cell_type": "markdown",
   "metadata": {},
   "source": [
    "$[1]$ <t style=\"font-variant: small-caps\">Mohammadi, M.</t>, Analysis of discretization schemes for Fokker-Planck equations and related optimality systems [doctoral thesis], 2015"
   ]
  },
  {
   "attachments": {},
   "cell_type": "markdown",
   "metadata": {},
   "source": [
    "$[2]$ <t style=\"font-variant: small-caps\">Khasi, M., and Fereshteh S.</t>, Numerical solutions of Fokker–Planck Equation based on Hermite functions, Communications in Combinatorics, Cryptography & Computer Science, 2022\n"
   ]
  },
  {
   "attachments": {},
   "cell_type": "markdown",
   "metadata": {},
   "source": [
    "$[3]$ <t style=\"font-variant: small-caps\">Kloeden, P. E. and Platen, E.</t>, Numerical solution of stochastic differential equations, Applications of Mathematics, 1992"
   ]
  },
  {
   "attachments": {},
   "cell_type": "markdown",
   "metadata": {},
   "source": [
    "$[4]$ <t style=\"font-variant: small-caps\">Milshtein, G. N.</t>, Approximate Integration of Stochastic Differential Equations, Theory of Probability & Its Applications. 19 (3): 557–000, 1974"
   ]
  },
  {
   "attachments": {},
   "cell_type": "markdown",
   "metadata": {},
   "source": [
    "$[5]$ <t style=\"font-variant: small-caps\">Boyd, J. P.</t>, Chebyshev and Fourier Spectral Methods, 1974"
   ]
  }
 ],
 "metadata": {
  "deepnote": {},
  "deepnote_execution_queue": [],
  "deepnote_notebook_id": "fc41e817840d44bcbadacebfebeb0238",
  "deepnote_persisted_session": {
   "createdAt": "2023-05-30T14:18:30.218Z"
  },
  "kernelspec": {
   "display_name": "Python 3",
   "language": "python",
   "name": "python3"
  },
  "language_info": {
   "codemirror_mode": {
    "name": "ipython",
    "version": 3
   },
   "file_extension": ".py",
   "mimetype": "text/x-python",
   "name": "python",
   "nbconvert_exporter": "python",
   "pygments_lexer": "ipython3",
   "version": "3.9.12"
  },
  "vscode": {
   "interpreter": {
    "hash": "ead1b95f633dc9c51826328e1846203f51a198c6fb5f2884a80417ba131d4e82"
   }
  }
 },
 "nbformat": 4,
 "nbformat_minor": 1
}
